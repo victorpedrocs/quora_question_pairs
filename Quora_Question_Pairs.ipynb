{
 "cells": [
  {
   "cell_type": "markdown",
   "metadata": {},
   "source": [
    "# Quora Question Pairs"
   ]
  },
  {
   "cell_type": "markdown",
   "metadata": {},
   "source": [
    "## The dataset\n",
    "The dataset used in this assignment is the quroa questions pairs dataset. Each line is a question pair and a label that saying if the questions duplicates or not.\n",
    "\n",
    "## Preprocessing\n",
    "Before working with the data we need to prepare it so we can get better results from the learning models.\n",
    "\n",
    "**Open the dataset**"
   ]
  },
  {
   "cell_type": "code",
   "execution_count": 2,
   "metadata": {},
   "outputs": [],
   "source": [
    "from pandas import read_csv\n",
    "import csv\n",
    "\n",
    "dataset = open('datasets/dataset.csv', 'r')\n",
    "dataset = read_csv(dataset, header='infer', delimiter='\\t')"
   ]
  },
  {
   "cell_type": "markdown",
   "metadata": {},
   "source": [
    "**Tokenize and stem**"
   ]
  },
  {
   "cell_type": "code",
   "execution_count": 4,
   "metadata": {},
   "outputs": [],
   "source": [
    "from nltk.stem.snowball import EnglishStemmer\n",
    "from nltk.tokenize import RegexpTokenizer\n",
    "\n",
    "tokenizer = RegexpTokenizer(r'\\w+')\n",
    "stemmer = EnglishStemmer()"
   ]
  },
  {
   "cell_type": "markdown",
   "metadata": {},
   "source": [
    "**Write the dataset in another file**"
   ]
  },
  {
   "cell_type": "code",
   "execution_count": null,
   "metadata": {},
   "outputs": [],
   "source": [
    "out = open('dataset_concat.csv', mode='w')\n",
    "csv_writer = csv.writer(out, delimiter='\\t')\n",
    "\n",
    "for row in dataset.itertuples():\n",
    "    q1 = row[4].strip()\n",
    "    q2 = row[5].strip()\n",
    "    q = q1 + \" \" + q2\n",
    "    y = row[6]\n",
    "    csv_writer.writerow([q,y])\n",
    "    ## invert the order of q1 and q2 and save it in another line\n",
    "    q = q2 + \" \" + q1\n",
    "    csv_writer.writerow([q,y])\n",
    "\n",
    "out.close()"
   ]
  },
  {
   "cell_type": "markdown",
   "metadata": {},
   "source": [
    " "
   ]
  }
 ],
 "metadata": {
  "kernelspec": {
   "display_name": "Python 3",
   "language": "python",
   "name": "python3"
  },
  "language_info": {
   "codemirror_mode": {
    "name": "ipython",
    "version": 3.0
   },
   "file_extension": ".py",
   "mimetype": "text/x-python",
   "name": "python",
   "nbconvert_exporter": "python",
   "pygments_lexer": "ipython3",
   "version": "3.6.1"
  }
 },
 "nbformat": 4,
 "nbformat_minor": 0
}