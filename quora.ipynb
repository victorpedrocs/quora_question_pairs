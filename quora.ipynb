{
 "cells": [
  {
   "cell_type": "markdown",
   "metadata": {
    "collapsed": true
   },
   "source": [
    "## ttfx\n"
   ]
  },
  {
   "cell_type": "code",
   "execution_count": 2,
   "metadata": {},
   "outputs": [],
   "source": [
    "from pandas import read_csv\n",
    "from numpy  import array\n",
    "from sklearn.feature_extraction.text import TfidfVectorizer\n",
    "from sklearn.feature_extraction.text import CountVectorizer\n",
    "from sklearn import naive_bayes\n",
    "from sklearn.ensemble import RandomForestClassifier\n",
    "from sklearn.cross_validation import cross_val_score"
   ]
  },
  {
   "cell_type": "markdown",
   "metadata": {},
   "source": [
    "ihkjhj"
   ]
  },
  {
   "cell_type": "code",
   "execution_count": 3,
   "metadata": {},
   "outputs": [
    {
     "name": "stdout",
     "output_type": "stream",
     "text": [
      "(404349, 2)\n(404349, 3951545)"
     ]
    },
    {
     "name": "stdout",
     "output_type": "stream",
     "text": [
      "\n(404349,)\n"
     ]
    }
   ],
   "source": [
    "dataset = open('datasets/dataset_concat_stemm.csv', 'r')\n",
    "#%%\n",
    "dataset = read_csv(dataset, header=None, delimiter='\\t')\n",
    "\n",
    "print(dataset.shape)\n",
    "#%%\n",
    "x = dataset.iloc[:,0]\n",
    "y = array(dataset.iloc[:,1]).ravel()\n",
    "\n",
    "vectorizer = CountVectorizer(min_df=1, ngram_range=(1,3))\n",
    "x = vectorizer.fit_transform(x)\n",
    "\n",
    "print(x.shape)\n",
    "print(y.shape)"
   ]
  },
  {
   "cell_type": "code",
   "execution_count": null,
   "metadata": {},
   "outputs": [],
   "source": [
    ""
   ]
  }
 ],
 "metadata": {
  "kernelspec": {
   "display_name": "Python 2",
   "language": "python",
   "name": "python2"
  },
  "language_info": {
   "codemirror_mode": {
    "name": "ipython",
    "version": 2.0
   },
   "file_extension": ".py",
   "mimetype": "text/x-python",
   "name": "python",
   "nbconvert_exporter": "python",
   "pygments_lexer": "ipython2",
   "version": "2.7.6"
  }
 },
 "nbformat": 4,
 "nbformat_minor": 0
}