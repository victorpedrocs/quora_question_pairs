{
 "cells": [
  {
   "cell_type": "markdown",
   "metadata": {},
   "source": [
    "## Preparando o modelo\n",
    "### Bag of words\n",
    "### Word2vec\n",
    "## Modelos de aprendizado\n",
    "### SVM\n",
    "### XGBoost\n",
    "### Radom Forest"
   ]
  },
  {
   "cell_type": "markdown",
   "metadata": {},
   "source": [
    "## Bag of Words\n",
    "Bag of words é um modelo de representação de documentos textuais no formato matricial, em que as linhas representam os textos e as colunas representam o vocabulário formado a partir das palavras encontradas nos textos. Nas células da matriz ficam armazenadas as frequencias de cada palavra em cada texto. Existem duas formas comuns de se calcular a frequencia: a frequencia simples e a frequencia invertida, que leva em consideração a frequencia em que uma palavra ocorre em todos os documentos.\n",
    "Para os experimentos utilizando BoW, a frequncia simples foi utilizada pois não houve diferença significativa nos testes com a prequencia invertida. Os classificadores utilizados foram dois baseados em árvores de decisão, Random Forest e XGBoost.\n",
    "\n",
    "### Random Forest\n",
    "\n",
    "Os experimentos com o classificador Random Forest consistiram na variação do número de árvores, pois alguns dos parâmetros são definidos automaticamente por meio de heurísticas. Os demais parâmetros não foram ajustados pois em testes preliminares em uma amostra do dataset, não resultaram em ganhos em relação aos valores padrões.  \n",
    "\n",
    "### XGBoost\n",
    "\n",
    "Os experimentos com o classificador XGBoost foram realizados variando tanto a matriz de features quanto os parâmetros do algoritmos. Testes preliminares com uma amostra do dataset mostraram que os parâmetros do classificador que trouxeram os melhores resultados foram os seguintes: \n",
    "\n",
    "max_depth=7 base_score=0.2 subsample=0.6\n",
    "\n",
    "Com esses parâmetros fixados, foram realizados testes com o dataset completo variando o número de árvores. A quantidades de árvores testadas foram as seguintes: 100, 200, 500 e 1000.\n"
   ]
  },
  {
   "cell_type": "markdown",
   "metadata": {},
   "source": [
    "## Word2vec\n",
    "\n",
    "\n",
    "\n",
    "Os classificadores utilizados nos experimentos foram dois baseados em árvores de decisão, Random Forest e XGBoost, e um estatístico baseado no modelo de regressão logística.\n",
    "\n",
    "### Random Forest\n",
    "\n",
    "O experimento com o classificador Random Forest consistiu em um teste com 100 árvores\n",
    "\n",
    "### XGBoost\n",
    "\n",
    "O experimento com o classificador XGBoost foi realizado com 100 árvores e com os seguintes parâmetros fixados: \n",
    "\n",
    "max_depth=7 base_score=0.2 subsample=0.6\n",
    "\n",
    "### Logistic Regression\n",
    "\n",
    "O experimento realizado com o classificador Logistic Regression foi feito definindo o solver como 'sag' e limitando a um máximo de 100.000 iterações.\n"
   ]
  },
  {
   "cell_type": "code",
   "execution_count": null,
   "metadata": {},
   "outputs": [],
   "source": []
  }
 ],
 "metadata": {
  "kernelspec": {
   "display_name": "Python 3",
   "language": "python",
   "name": "python3"
  },
  "language_info": {
   "codemirror_mode": {
    "name": "ipython",
    "version": 3
   },
   "file_extension": ".py",
   "mimetype": "text/x-python",
   "name": "python",
   "nbconvert_exporter": "python",
   "pygments_lexer": "ipython3",
   "version": "3.5.2"
  }
 },
 "nbformat": 4,
 "nbformat_minor": 2
}
