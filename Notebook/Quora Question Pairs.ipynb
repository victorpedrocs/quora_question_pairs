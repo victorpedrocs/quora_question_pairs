{
 "cells": [
  {
   "cell_type": "markdown",
   "metadata": {
    "slideshow": {
     "slide_type": "slide"
    }
   },
   "source": [
    "##### Ricardo Luiz, Victor Pedro "
   ]
  },
  {
   "cell_type": "markdown",
   "metadata": {
    "slideshow": {
     "slide_type": "slide"
    }
   },
   "source": [
    "# Introdução\n",
    "Quora é uma ferramenta _online_ de perguntas e respostas com o objetivo de compartilhar conhecimento de forma eficiente na internet. Um dos desafios desta plataforma é evitar que as mesmas perguntas sejam feitas repetidamente. Neste trabalho propomos uma solução à este desafio utilizando técnicas de mineração de textos aliadas à modelos de aprendizado de máquina para identificar se as perguntas são duplicadas ou não."
   ]
  },
  {
   "cell_type": "markdown",
   "metadata": {
    "slideshow": {
     "slide_type": "slide"
    }
   },
   "source": [
    "# Dataset\n",
    "O dataset utilizado neste trabalho foi disponibilizado pelo Quora para uma competição de _data science_ organizado pelo _Kaggle_ [\\[1\\]](https://www.kaggle.com/c/quora-question-pairs). Este dataset é composto por aproximadamente quatrocentas mil tuplas contendo um par de perguntas e uma _label_ que define se o par de perguntas é duplicado ou não."
   ]
  },
  {
   "cell_type": "code",
   "execution_count": 31,
   "metadata": {
    "slideshow": {
     "slide_type": "subslide"
    }
   },
   "outputs": [
    {
     "data": {
      "text/html": [
       "<div>\n",
       "<style>\n",
       "    .dataframe thead tr:only-child th {\n",
       "        text-align: right;\n",
       "    }\n",
       "\n",
       "    .dataframe thead th {\n",
       "        text-align: left;\n",
       "    }\n",
       "\n",
       "    .dataframe tbody tr th {\n",
       "        vertical-align: top;\n",
       "    }\n",
       "</style>\n",
       "<table border=\"1\" class=\"dataframe\">\n",
       "  <thead>\n",
       "    <tr style=\"text-align: right;\">\n",
       "      <th></th>\n",
       "      <th>id</th>\n",
       "      <th>q1id</th>\n",
       "      <th>q2id</th>\n",
       "      <th>q1</th>\n",
       "      <th>q2</th>\n",
       "      <th>y</th>\n",
       "    </tr>\n",
       "  </thead>\n",
       "  <tbody>\n",
       "    <tr>\n",
       "      <th>0</th>\n",
       "      <td>0</td>\n",
       "      <td>1</td>\n",
       "      <td>2</td>\n",
       "      <td>What is the step by step guide to invest in sh...</td>\n",
       "      <td>What is the step by step guide to invest in sh...</td>\n",
       "      <td>0</td>\n",
       "    </tr>\n",
       "    <tr>\n",
       "      <th>1</th>\n",
       "      <td>1</td>\n",
       "      <td>3</td>\n",
       "      <td>4</td>\n",
       "      <td>What is the story of Kohinoor (Koh-i-Noor) Dia...</td>\n",
       "      <td>What would happen if the Indian government sto...</td>\n",
       "      <td>0</td>\n",
       "    </tr>\n",
       "    <tr>\n",
       "      <th>2</th>\n",
       "      <td>2</td>\n",
       "      <td>5</td>\n",
       "      <td>6</td>\n",
       "      <td>How can I increase the speed of my internet co...</td>\n",
       "      <td>How can Internet speed be increased by hacking...</td>\n",
       "      <td>0</td>\n",
       "    </tr>\n",
       "    <tr>\n",
       "      <th>3</th>\n",
       "      <td>3</td>\n",
       "      <td>7</td>\n",
       "      <td>8</td>\n",
       "      <td>Why am I mentally very lonely? How can I solve...</td>\n",
       "      <td>Find the remainder when [math]23^{24}[/math] i...</td>\n",
       "      <td>0</td>\n",
       "    </tr>\n",
       "    <tr>\n",
       "      <th>4</th>\n",
       "      <td>4</td>\n",
       "      <td>9</td>\n",
       "      <td>10</td>\n",
       "      <td>Which one dissolve in water quikly sugar, salt...</td>\n",
       "      <td>Which fish would survive in salt water?</td>\n",
       "      <td>0</td>\n",
       "    </tr>\n",
       "    <tr>\n",
       "      <th>5</th>\n",
       "      <td>5</td>\n",
       "      <td>11</td>\n",
       "      <td>12</td>\n",
       "      <td>Astrology: I am a Capricorn Sun Cap moon and c...</td>\n",
       "      <td>I'm a triple Capricorn (Sun, Moon and ascendan...</td>\n",
       "      <td>1</td>\n",
       "    </tr>\n",
       "    <tr>\n",
       "      <th>6</th>\n",
       "      <td>6</td>\n",
       "      <td>13</td>\n",
       "      <td>14</td>\n",
       "      <td>Should I buy tiago?</td>\n",
       "      <td>What keeps childern active and far from phone ...</td>\n",
       "      <td>0</td>\n",
       "    </tr>\n",
       "    <tr>\n",
       "      <th>7</th>\n",
       "      <td>7</td>\n",
       "      <td>15</td>\n",
       "      <td>16</td>\n",
       "      <td>How can I be a good geologist?</td>\n",
       "      <td>What should I do to be a great geologist?</td>\n",
       "      <td>1</td>\n",
       "    </tr>\n",
       "    <tr>\n",
       "      <th>8</th>\n",
       "      <td>8</td>\n",
       "      <td>17</td>\n",
       "      <td>18</td>\n",
       "      <td>When do you use シ instead of し?</td>\n",
       "      <td>When do you use \"&amp;\" instead of \"and\"?</td>\n",
       "      <td>0</td>\n",
       "    </tr>\n",
       "    <tr>\n",
       "      <th>9</th>\n",
       "      <td>9</td>\n",
       "      <td>19</td>\n",
       "      <td>20</td>\n",
       "      <td>Motorola (company): Can I hack my Charter Moto...</td>\n",
       "      <td>How do I hack Motorola DCX3400 for free internet?</td>\n",
       "      <td>0</td>\n",
       "    </tr>\n",
       "  </tbody>\n",
       "</table>\n",
       "</div>"
      ],
      "text/plain": [
       "   id  q1id  q2id                                                 q1  \\\n",
       "0   0     1     2  What is the step by step guide to invest in sh...   \n",
       "1   1     3     4  What is the story of Kohinoor (Koh-i-Noor) Dia...   \n",
       "2   2     5     6  How can I increase the speed of my internet co...   \n",
       "3   3     7     8  Why am I mentally very lonely? How can I solve...   \n",
       "4   4     9    10  Which one dissolve in water quikly sugar, salt...   \n",
       "5   5    11    12  Astrology: I am a Capricorn Sun Cap moon and c...   \n",
       "6   6    13    14                                Should I buy tiago?   \n",
       "7   7    15    16                     How can I be a good geologist?   \n",
       "8   8    17    18                    When do you use シ instead of し?   \n",
       "9   9    19    20  Motorola (company): Can I hack my Charter Moto...   \n",
       "\n",
       "                                                  q2  y  \n",
       "0  What is the step by step guide to invest in sh...  0  \n",
       "1  What would happen if the Indian government sto...  0  \n",
       "2  How can Internet speed be increased by hacking...  0  \n",
       "3  Find the remainder when [math]23^{24}[/math] i...  0  \n",
       "4            Which fish would survive in salt water?  0  \n",
       "5  I'm a triple Capricorn (Sun, Moon and ascendan...  1  \n",
       "6  What keeps childern active and far from phone ...  0  \n",
       "7          What should I do to be a great geologist?  1  \n",
       "8              When do you use \"&\" instead of \"and\"?  0  \n",
       "9  How do I hack Motorola DCX3400 for free internet?  0  "
      ]
     },
     "execution_count": 31,
     "metadata": {},
     "output_type": "execute_result"
    }
   ],
   "source": [
    "import pandas as pd\n",
    "import csv\n",
    "\n",
    "dataset = pd.read_csv('./datasets/dataset.csv', delimiter='\\t')\n",
    "dataset.head(10)"
   ]
  },
  {
   "cell_type": "markdown",
   "metadata": {
    "slideshow": {
     "slide_type": "subslide"
    }
   },
   "source": [
    "Onde:\n",
    "* **id**: É o identificador da linha\n",
    "* **q1id, q2id**: O identificador de cada pergunta\n",
    "* **q1, q2**: São os textos das perguntas\n",
    "* **is_duplicate**: É a _label_ que treinaremos o modelo para predizer"
   ]
  },
  {
   "cell_type": "markdown",
   "metadata": {
    "slideshow": {
     "slide_type": "slide"
    }
   },
   "source": [
    "## Analisando o dataset\n",
    "Antes de dar processeguimento, é importante obter o máximo de informações possíveis sobre o dataset em que estamos trabalhando. Iremos verificar:\n",
    "* A quantidade de tuplas no dataset\n",
    "* A quantidade de perguntas duplicadas\n",
    "* A quantidade de perguntas no dataset"
   ]
  },
  {
   "cell_type": "code",
   "execution_count": 23,
   "metadata": {
    "slideshow": {
     "slide_type": "subslide"
    }
   },
   "outputs": [
    {
     "name": "stdout",
     "output_type": "stream",
     "text": [
      "Quantidades de pares para treinamento:  404349\n",
      "Quantidade de pares duplicados: 36.93%\n",
      "Quantidade de questoes no dataset:  789797\n",
      "Quantidade de questoes que aparecem mais de uma vez:  13698\n"
     ]
    }
   ],
   "source": [
    "import numpy as np\n",
    "\n",
    "questions_ids = pd.Series(dataset['q1id'].tolist() + dataset['q2id'].tolist() )\n",
    "\n",
    "print('Quantidades de pares para treinamento: ', len(dataset))\n",
    "print(\"Quantidade de pares duplicados: %0.2f%%\" % round(dataset['y'].mean()*100, 2))\n",
    "print('Quantidade de questoes no dataset: ', len(np.unique(questions_ids)))\n",
    "print('Quantidade de questoes que aparecem mais de uma vez: ', np.sum(questions_ids.value_counts() > 1))"
   ]
  },
  {
   "cell_type": "code",
   "execution_count": 128,
   "metadata": {
    "slideshow": {
     "slide_type": "subslide"
    }
   },
   "outputs": [
    {
     "name": "stdout",
     "output_type": "stream",
     "text": [
      "\n"
     ]
    },
    {
     "data": {
      "image/png": "[encoded data removed]",
      "text/plain": [
       "<matplotlib.figure.Figure at 0x7fa44d1c86d8>"
      ]
     },
     "metadata": {},
     "output_type": "display_data"
    }
   ],
   "source": [
    "import matplotlib.pyplot as plt\n",
    "%matplotlib inline\n",
    "\n",
    "plt.figure(figsize=(10, 5))\n",
    "plt.hist(questions_ids.value_counts(), bins=50)\n",
    "plt.yscale('log', nonposy='clip')\n",
    "plt.title('Quantidade de ocorrencias de questoes')\n",
    "plt.xlabel('Quantidade de ocorrencias')\n",
    "plt.ylabel('Numero de questoes')\n",
    "plt.legend('best')\n",
    "print()"
   ]
  },
  {
   "cell_type": "markdown",
   "metadata": {
    "slideshow": {
     "slide_type": "slide"
    }
   },
   "source": [
    "# Pré-processamento\n",
    "Para treinarmos um modelo de aprendizado de máquina, é necessário que os dados passem por uma etapa de normalização, principalmente quando se trata de dados em formato não estruturado. Neste caso existem diversas ferramentas que auxiliam este trabalho."
   ]
  },
  {
   "cell_type": "markdown",
   "metadata": {
    "slideshow": {
     "slide_type": "subslide"
    }
   },
   "source": [
    "## Remoção de contrações"
   ]
  },
  {
   "cell_type": "code",
   "execution_count": 132,
   "metadata": {
    "slideshow": {
     "slide_type": "fragment"
    }
   },
   "outputs": [
    {
     "data": {
      "text/html": [
       "<div>\n",
       "<style>\n",
       "    .dataframe thead tr:only-child th {\n",
       "        text-align: right;\n",
       "    }\n",
       "\n",
       "    .dataframe thead th {\n",
       "        text-align: left;\n",
       "    }\n",
       "\n",
       "    .dataframe tbody tr th {\n",
       "        vertical-align: top;\n",
       "    }\n",
       "</style>\n",
       "<table border=\"1\" class=\"dataframe\">\n",
       "  <thead>\n",
       "    <tr style=\"text-align: right;\">\n",
       "      <th></th>\n",
       "      <th>id</th>\n",
       "      <th>q1id</th>\n",
       "      <th>q2id</th>\n",
       "      <th>q1</th>\n",
       "      <th>q2</th>\n",
       "      <th>y</th>\n",
       "    </tr>\n",
       "  </thead>\n",
       "  <tbody>\n",
       "    <tr>\n",
       "      <th>0</th>\n",
       "      <td>0</td>\n",
       "      <td>1</td>\n",
       "      <td>2</td>\n",
       "      <td>what is the step by step guid to invest in sha...</td>\n",
       "      <td>what is the step by step guid to invest in sha...</td>\n",
       "      <td>0</td>\n",
       "    </tr>\n",
       "    <tr>\n",
       "      <th>1</th>\n",
       "      <td>1</td>\n",
       "      <td>3</td>\n",
       "      <td>4</td>\n",
       "      <td>what is the stori of kohinoor koh i noor diamond</td>\n",
       "      <td>what would happen if the indian govern stole t...</td>\n",
       "      <td>0</td>\n",
       "    </tr>\n",
       "    <tr>\n",
       "      <th>2</th>\n",
       "      <td>2</td>\n",
       "      <td>5</td>\n",
       "      <td>6</td>\n",
       "      <td>how can i increas the speed of my internet con...</td>\n",
       "      <td>how can internet speed be increas by hack thro...</td>\n",
       "      <td>0</td>\n",
       "    </tr>\n",
       "    <tr>\n",
       "      <th>3</th>\n",
       "      <td>3</td>\n",
       "      <td>7</td>\n",
       "      <td>8</td>\n",
       "      <td>whi am i mental veri lone how can i solv it</td>\n",
       "      <td>find the remaind when math 23 24 math is divid...</td>\n",
       "      <td>0</td>\n",
       "    </tr>\n",
       "    <tr>\n",
       "      <th>4</th>\n",
       "      <td>4</td>\n",
       "      <td>9</td>\n",
       "      <td>10</td>\n",
       "      <td>which one dissolv in water quik sugar salt met...</td>\n",
       "      <td>which fish would surviv in salt water</td>\n",
       "      <td>0</td>\n",
       "    </tr>\n",
       "  </tbody>\n",
       "</table>\n",
       "</div>"
      ],
      "text/plain": [
       "   id  q1id  q2id                                                 q1  \\\n",
       "0   0     1     2  what is the step by step guid to invest in sha...   \n",
       "1   1     3     4   what is the stori of kohinoor koh i noor diamond   \n",
       "2   2     5     6  how can i increas the speed of my internet con...   \n",
       "3   3     7     8        whi am i mental veri lone how can i solv it   \n",
       "4   4     9    10  which one dissolv in water quik sugar salt met...   \n",
       "\n",
       "                                                  q2  y  \n",
       "0  what is the step by step guid to invest in sha...  0  \n",
       "1  what would happen if the indian govern stole t...  0  \n",
       "2  how can internet speed be increas by hack thro...  0  \n",
       "3  find the remaind when math 23 24 math is divid...  0  \n",
       "4              which fish would surviv in salt water  0  "
      ]
     },
     "execution_count": 132,
     "metadata": {},
     "output_type": "execute_result"
    }
   ],
   "source": [
    "import quora_dataset_builder as dsb\n",
    "\n",
    "dataset['q1'] = dataset['q1'].apply(dsb.replace_contractions)\n",
    "dataset['q2'] = dataset['q2'].apply(dsb.replace_contractions)\n",
    "dataset.head()"
   ]
  },
  {
   "cell_type": "markdown",
   "metadata": {
    "slideshow": {
     "slide_type": "slide"
    }
   },
   "source": [
    "## Tokenização e Stemming"
   ]
  },
  {
   "cell_type": "code",
   "execution_count": 133,
   "metadata": {
    "slideshow": {
     "slide_type": "subslide"
    }
   },
   "outputs": [
    {
     "data": {
      "text/html": [
       "<div>\n",
       "<style>\n",
       "    .dataframe thead tr:only-child th {\n",
       "        text-align: right;\n",
       "    }\n",
       "\n",
       "    .dataframe thead th {\n",
       "        text-align: left;\n",
       "    }\n",
       "\n",
       "    .dataframe tbody tr th {\n",
       "        vertical-align: top;\n",
       "    }\n",
       "</style>\n",
       "<table border=\"1\" class=\"dataframe\">\n",
       "  <thead>\n",
       "    <tr style=\"text-align: right;\">\n",
       "      <th></th>\n",
       "      <th>id</th>\n",
       "      <th>q1id</th>\n",
       "      <th>q2id</th>\n",
       "      <th>q1</th>\n",
       "      <th>q2</th>\n",
       "      <th>y</th>\n",
       "    </tr>\n",
       "  </thead>\n",
       "  <tbody>\n",
       "    <tr>\n",
       "      <th>0</th>\n",
       "      <td>0</td>\n",
       "      <td>1</td>\n",
       "      <td>2</td>\n",
       "      <td>what is the step by step guid to invest in sha...</td>\n",
       "      <td>what is the step by step guid to invest in sha...</td>\n",
       "      <td>0</td>\n",
       "    </tr>\n",
       "    <tr>\n",
       "      <th>1</th>\n",
       "      <td>1</td>\n",
       "      <td>3</td>\n",
       "      <td>4</td>\n",
       "      <td>what is the stori of kohinoor koh i noor diamond</td>\n",
       "      <td>what would happen if the indian govern stole t...</td>\n",
       "      <td>0</td>\n",
       "    </tr>\n",
       "    <tr>\n",
       "      <th>2</th>\n",
       "      <td>2</td>\n",
       "      <td>5</td>\n",
       "      <td>6</td>\n",
       "      <td>how can i increa the speed of my internet conn...</td>\n",
       "      <td>how can internet speed be increa by hack throu...</td>\n",
       "      <td>0</td>\n",
       "    </tr>\n",
       "    <tr>\n",
       "      <th>3</th>\n",
       "      <td>3</td>\n",
       "      <td>7</td>\n",
       "      <td>8</td>\n",
       "      <td>whi am i mental veri lone how can i solv it</td>\n",
       "      <td>find the remaind when math 23 24 math is divid...</td>\n",
       "      <td>0</td>\n",
       "    </tr>\n",
       "    <tr>\n",
       "      <th>4</th>\n",
       "      <td>4</td>\n",
       "      <td>9</td>\n",
       "      <td>10</td>\n",
       "      <td>which one dissolv in water quik sugar salt met...</td>\n",
       "      <td>which fish would surviv in salt water</td>\n",
       "      <td>0</td>\n",
       "    </tr>\n",
       "  </tbody>\n",
       "</table>\n",
       "</div>"
      ],
      "text/plain": [
       "   id  q1id  q2id                                                 q1  \\\n",
       "0   0     1     2  what is the step by step guid to invest in sha...   \n",
       "1   1     3     4   what is the stori of kohinoor koh i noor diamond   \n",
       "2   2     5     6  how can i increa the speed of my internet conn...   \n",
       "3   3     7     8        whi am i mental veri lone how can i solv it   \n",
       "4   4     9    10  which one dissolv in water quik sugar salt met...   \n",
       "\n",
       "                                                  q2  y  \n",
       "0  what is the step by step guid to invest in sha...  0  \n",
       "1  what would happen if the indian govern stole t...  0  \n",
       "2  how can internet speed be increa by hack throu...  0  \n",
       "3  find the remaind when math 23 24 math is divid...  0  \n",
       "4              which fish would surviv in salt water  0  "
      ]
     },
     "execution_count": 133,
     "metadata": {},
     "output_type": "execute_result"
    }
   ],
   "source": [
    "dataset['q1'] = dataset['q1'].apply(dsb.stem)\n",
    "dataset['q2'] = dataset['q2'].apply(dsb.stem)\n",
    "dataset.head()"
   ]
  },
  {
   "cell_type": "markdown",
   "metadata": {
    "slideshow": {
     "slide_type": "subslide"
    }
   },
   "source": [
    "Após o pré-processamento do dataset alguns fatores puderam ser analisados:\n",
    "* Os tamanhos das questões 1 e 2\n",
    "* As diferenças de tamanho entre as questões"
   ]
  },
  {
   "cell_type": "code",
   "execution_count": 52,
   "metadata": {
    "collapsed": true,
    "slideshow": {
     "slide_type": "fragment"
    }
   },
   "outputs": [],
   "source": [
    " sizes = dataset.apply(\n",
    "     lambda r: pd.Series([len(r.q1), len(r.q2), abs(len(r.q2) - len(r.q1)), r.y]),\n",
    "     axis=1)\n",
    "sizes.columns = ['q1', 'q2', 'diff', 'y']"
   ]
  },
  {
   "cell_type": "code",
   "execution_count": 135,
   "metadata": {
    "slideshow": {
     "slide_type": "subslide"
    }
   },
   "outputs": [
    {
     "name": "stdout",
     "output_type": "stream",
     "text": [
      "Media das diferencas de tamanho em perguntas duplicadas: 11.93\n",
      "Media das diferencas de tamanho em perguntas nao duplicadas: 21.90\n",
      "Diferenca maxima de perguntas duplicadas: 183.00\n",
      "Diferenca maxima de perguntas nao duplicadas: 1010.00\n",
      "Diferenca minima de perguntas duplicadas: 0.00\n",
      "Diferenca minima de perguntas nao duplicadas: 0.00\n"
     ]
    },
    {
     "data": {
      "image/png": "[encoded data removed]",
      "text/plain": [
       "<matplotlib.figure.Figure at 0x7fa431f17828>"
      ]
     },
     "metadata": {},
     "output_type": "display_data"
    }
   ],
   "source": [
    "print(\"Media das diferencas de tamanho em perguntas duplicadas: {0:.2f}\"\n",
    "      .format(sizes[sizes.y == 1]['diff'].mean()))\n",
    "print(\"Media das diferencas de tamanho em perguntas nao duplicadas: {0:.2f}\"\n",
    "      .format(sizes[sizes.y == 0]['diff'].mean()))\n",
    "print(\"Diferenca maxima de perguntas duplicadas: {0:.2f}\"\n",
    "      .format(sizes[sizes.y == 1]['diff'].max()))\n",
    "print(\"Diferenca maxima de perguntas nao duplicadas: {0:.2f}\"\n",
    "      .format(sizes[sizes.y == 0]['diff'].max()))\n",
    "print(\"Diferenca minima de perguntas duplicadas: {0:.2f}\"\n",
    "      .format(sizes[sizes.y == 1]['diff'].min()))\n",
    "print(\"Diferenca minima de perguntas nao duplicadas: {0:.2f}\"\n",
    "      .format(sizes[sizes.y == 0]['diff'].min()))\n",
    "\n",
    "plt.figure(figsize=(10, 5))\n",
    "plt.hist(sizes[(sizes.y==0)]['diff'], label='Nao duplicadas', bins=50)\n",
    "plt.hist(sizes[sizes.y==1]['diff'], label='Duplicadas', bins=25)\n",
    "plt.yscale('log', nonposy='clip')\n",
    "plt.xlabel('Diferença no tamanho das perguntas')\n",
    "plt.ylabel('Quantidade de perguntas')\n",
    "plt.legend(loc='best')\n",
    "plt.show()"
   ]
  },
  {
   "cell_type": "markdown",
   "metadata": {
    "slideshow": {
     "slide_type": "slide"
    }
   },
   "source": [
    "# Preparando o modelo\n",
    "A partir das informações obtidas sobre o conjunto de dados, a tarefa de extração de _features_ do dataset pode ser realizada, isto é, os dados textuais serão representados em um espaço vetorial, para que possam ser utilizados pelos algoritmos de aprendizado de máquina."
   ]
  },
  {
   "cell_type": "markdown",
   "metadata": {
    "slideshow": {
     "slide_type": "slide"
    }
   },
   "source": [
    "## Bag of words e N-grams\n",
    "Bag of words (BoW) [\\[2\\]](https://link.springer.com/article/10.1007/s13042-010-0001-0) é um modelo de representação de textos no formato matricial, em que as linhas representam os textos e as colunas representam o conjunto de palavras únicas encontradas entre todos os textos. Nas células da matriz ficam armazenadas as frequencias de cada palavra em relação a cada texto. Existem duas formas comuns de se calcular a frequencia: a frequencia simples, que conciste em uma contagem simples, e a frequencia invertida (Tf-idf), que leva em consideração a frequencia em que cada palavra ocorre em todos os documentos. Neste trabalho a frequncia simples foi utilizada pois não houve diferença significativa nos testes com a frequencia invertida.\n",
    "\n",
    "N-grams é a junção de `N` palavras em um token [\\[3\\]](http://citeseerx.ist.psu.edu/viewdoc/download?doi=10.1.1.21.3248&rep=rep1&type=pdf). Esta técnica possibilita a preservação de dados contextuais, dado que BoW não leva a ordem em que as palavras aparecem nos textos em consideração. Neste trabalho um BoW com bigramas (2-grams) foi utilizado pois foi a modelagem que apresentou os melhores resultados nos testes preliminares."
   ]
  },
  {
   "cell_type": "code",
   "execution_count": null,
   "metadata": {
    "collapsed": true,
    "slideshow": {
     "slide_type": "subslide"
    }
   },
   "outputs": [],
   "source": [
    "# n-gram range\n",
    "ngram_range=(1,2)\n",
    "# BoW algorithm instance\n",
    "vectorizer = CountVectorizer(min_df=1, ngram_range=ngram_range)\n",
    "# Building the features set using BoW with bigram\n",
    "X = vectorizer.fit_transform(x)"
   ]
  },
  {
   "cell_type": "markdown",
   "metadata": {
    "slideshow": {
     "slide_type": "slide"
    }
   },
   "source": [
    "### Redução de dimensionalidade\n",
    "Neste trabalho utilizamos o método de redução de dimensionalidade **SVD** ao invés do **PCA** devido a esparsividade da matriz gerada pelo algoritmo BoW da biblioteca _sklearn_, e também ao fato do ***PCA*** exigir uma matriz com representação densa, o que ocasionaria problemas com limitação de memória _RAM_. [\\[4\\]](http://scikit-learn.org/stable/modules/generated/sklearn.decomposition.TruncatedSVD.html#sklearn.decomposition.TruncatedSVD)\n",
    "\n",
    "Segundo a documentação da ferramenta, a quantidade de dimensões recomendada para análise semântica é 100 [\\[4\\]](http://scikit-learn.org/stable/modules/generated/sklearn.decomposition.TruncatedSVD.html#sklearn.decomposition.TruncatedSVD), porém em nossos testes obtivemos melhores resultados com 300 dimensões."
   ]
  },
  {
   "cell_type": "code",
   "execution_count": null,
   "metadata": {
    "collapsed": true,
    "slideshow": {
     "slide_type": "subslide"
    }
   },
   "outputs": [],
   "source": [
    "# sklearn SVD instance\n",
    "svd = TruncatedSVD(n_components=300)\n",
    "# fit the features set using svd\n",
    "X = svd.fit_transform(X)"
   ]
  },
  {
   "cell_type": "markdown",
   "metadata": {
    "slideshow": {
     "slide_type": "subslide"
    }
   },
   "source": [
    "**Unindo os textos:** As features foram representadas por duas formas: _Bag of words_. Para isto, a abordagem adotada foi a concatenação das duas perguntas resultando em um único texto, que posteriormente será utilizado para a criação das _features_, mantendo a _label_ `is_duplicated` como classe.\n",
    "\n",
    "Chamaremos este conjunto de _features_ formado pelo BoW com as dimensões reduzidas pelo SVD de **fs-1**.\n",
    "\n",
    "**Variação:** No caso da _Bag of words_, foi também feita uma modelagem aplicado as etapas de pré-processamento e redução de dimensionalidade separadamente para cada pergunta, e após o processos os vetores foram concatenados.\n",
    "\n",
    "Chamaremos esta variação do conjunto de _features_ formado pelo BoW com as dimensões reduzidas pelo SVD de **fs-2**.\n"
   ]
  },
  {
   "cell_type": "markdown",
   "metadata": {
    "slideshow": {
     "slide_type": "slide"
    }
   },
   "source": [
    "## Word2Vec (GloVe)\n",
    "Outra forma de extração de _features_ em dados textuais é a utilização de modelos de aprendizado de máquina, que dado um conjunto de dados de entrada, geram um espaço vetorial de dimensionalidade reduzida, em que cada palavra é um vetor deste espaço. Esta representação guarda informações contextuais de uma palavra baseado em sua aparição no conjunto de entrada [\\[5\\]](https://arxiv.org/abs/1402.3722). \n",
    "O algoritmo mais populares e que foi utilizado neste trabalho é o Word2vec [\\[5\\]](https://arxiv.org/abs/1402.3722), juntamente com o modelos pré-treinados pertencentes ao projeto _GloVe_, criado na universidade de Stanford [\\[6\\]](https://nlp.stanford.edu/projects/glove/).\n",
    "\n",
    "A escolha do _GloVe_ se deve ao fato da disponibilização de modelos com dimensões variáveis, 50, 100, 200 e 300. Estes modelos foram gerados a partir de dados da _Wikipedia_, e possuem 6B de tokens e 400 mil vocábulos. Após testes preliminares, o modelo com 300 dimensões foi o que apresentou melhores resultados."
   ]
  },
  {
   "cell_type": "code",
   "execution_count": null,
   "metadata": {
    "collapsed": true,
    "slideshow": {
     "slide_type": "subslide"
    }
   },
   "outputs": [],
   "source": [
    "# convert GloVe to Word2Vec format\n",
    "glove2word2vec('datasets/glove.6B.300d.txt', 'datasets/glove.6B.300d.word2vec')\n",
    "# load glove in word2vec format\n",
    "model = KeyedVectors.load_word2vec_format(\n",
    "        'datasets/glove.6B.300d.word2vec',\n",
    "        binary=False)\n",
    "# ...\n",
    "# divide a row (tuple) in an array of words\n",
    "words = tokenizer.tokenize(row[1])\n",
    "# pick only the words in the glove vocabulary\n",
    "filtered_words = [word for word in words if word in model.vocab]\n",
    "\n",
    "for word in filtered_words:\n",
    "    #get the vector representation in pre-trained glove\n",
    "    word_vector = model.word_vec(word)\n",
    "    # insert the word vector in the features set\n",
    "    X[row_index] = add(X[row_index], word_vector)\n",
    "\n",
    "# ...\n",
    "# divide a row by the norm\n",
    "for row in range(X.shape[0]):\n",
    "    X[row] = divide(X[row], norm(X[row]))  "
   ]
  },
  {
   "cell_type": "markdown",
   "metadata": {
    "slideshow": {
     "slide_type": "subslide"
    }
   },
   "source": [
    "Chamaremos este conjunto de _features_ formado pela representação vetorial das palavras do GloVe de **fs-3**."
   ]
  },
  {
   "cell_type": "markdown",
   "metadata": {
    "slideshow": {
     "slide_type": "slide"
    }
   },
   "source": [
    "# Modelos de aprendizado\n",
    "\n",
    "Os classificadores utilizados nos experimentos foram o Random Forest e XGboost, ambos baseados em árvores de decisão. O método de avaliação dos modelos gerados foi o _cross-validation_ com 5 _folds_, utilzando a métrica _Log Loss_ [\\[7\\]](http://scikit-learn.org/stable/modules/generated/sklearn.metrics.log_loss.html) como parâmetro de avaliação. Adicionalmente, uma matriz de confusão para um dos testes de cada classificador támbem foi apresentada juntamente com a acurácia."
   ]
  },
  {
   "cell_type": "markdown",
   "metadata": {},
   "source": [
    "## Naive bayes\n",
    "O algoritmo Naive bayes foi utilizado como um _baseline_ para comparação do desempenho dos próximos algoritmos."
   ]
  },
  {
   "cell_type": "code",
   "execution_count": 2,
   "metadata": {},
   "outputs": [],
   "source": [
    "# Naive bayes classifier\n",
    "model = GaussianNB()\n",
    "# train the model using cross-validation with 5 folds in parallel\n",
    "scores = cross_val_score(model, X, y, cv=n_folds, n_jobs=-1, scoring='neg_log_loss')"
   ]
  },
  {
   "cell_type": "markdown",
   "metadata": {},
   "source": [
    "### Resultados\n",
    "\n",
    "|Log Loss | Feature set |\n",
    "| -------- | ----------- |\n",
    "|1.505620 |   **fs-1** |\n",
    "|1.780609 |   **fs-2** |\n",
    "|1.591343 |   **fs-3** |\n",
    "\n",
    "#### Matriz de confusão **fs-2**\n",
    "\n",
    "| |  |  |\n",
    "|---|---|---|\n",
    "|**0**  | 36683 | 14091 |\n",
    "|**1**  | 16612 | 13484|\n",
    "\n",
    "**Acurácia: 62%**"
   ]
  },
  {
   "cell_type": "markdown",
   "metadata": {
    "slideshow": {
     "slide_type": "slide"
    }
   },
   "source": [
    "## Random Forest\n",
    "Os experimentos com o classificador Random Forest [\\[8\\]](http://ai2-s2-pdfs.s3.amazonaws.com/6e63/3b41d93051375ef9135102d54fa097dc8cf8.pdf) consistiram na variação do número de árvores, 100 e 200, pois alguns dos parâmetros são definidos automaticamente por meio de heurísticas. Os demais parâmetros não foram ajustados devido ao fato de que em testes preliminares em uma amostra do dataset, não houve ganhos em relação aos valores padrões.\n",
    "\n",
    "Não prosseguimos com os testes utilizando este modelo pois comparado ao XGBoost, este obteve rendimento inferior."
   ]
  },
  {
   "cell_type": "code",
   "execution_count": null,
   "metadata": {},
   "outputs": [],
   "source": [
    "# Instance the RandomForest classifier with 100 trees\n",
    "model = RandomForestClassifier(n_estimators=100, n_jobs=-1)\n",
    "# train the model using cross-validation with 5 folds in parallel\n",
    "scores = cross_val_score(model, X, y, cv=n_folds, n_jobs=-1, scoring='neg_log_loss')"
   ]
  },
  {
   "cell_type": "markdown",
   "metadata": {
    "slideshow": {
     "slide_type": "fragment"
    }
   },
   "source": [
    "### Resultados\n",
    "#### Tabela de resultados Validação Cruzada\n",
    "| n_estimators | Log Loss | Feature set |\n",
    "| ------------ | -------- | ----------- |\n",
    "| 100          | 0.637080 |   **fs-1** |\n",
    "| 200          | 0.605942 | **fs-1** |\n",
    "| 100          | 0.492744 | **fs-2** |\n",
    "| 200          | 0.488447 | **fs-2** |\n",
    "| 100          | 0.577895 | **fs-3** |\n",
    "\n",
    "#### Matriz de confusão **fs-2** (n_estimators = 200)\n",
    "\n",
    "| |  |  |\n",
    "|---|---|---|\n",
    "|**0**  | 47837 | 3235 |\n",
    "|**1**  | 14446 | 15352|\n",
    "\n",
    "**Acurácia: 79%**"
   ]
  },
  {
   "cell_type": "markdown",
   "metadata": {
    "slideshow": {
     "slide_type": "slide"
    }
   },
   "source": [
    "## XGBoost\n",
    "Os experimentos com o XGBoost [\\[9\\]](http://dl.acm.org/citation.cfm?id=2939785), classificador escalável baseado em árvores de decisão, foram realizados variando tanto a matriz de features quanto os parâmetros do algoritmos. Testes preliminares com uma amostra do dataset mostraram que os parâmetros do classificador que trouxeram os melhores resultados foram os seguintes: \n",
    "\n",
    "* `max_depth=7`\n",
    "* `base_score=0.2`\n",
    "* `subsample=0.6`\n",
    "\n",
    "Com esses parâmetros fixados, foram realizados testes com o dataset completo variando o número de árvores. A quantidades de árvores testadas foram as seguintes: 100, 200, 500 e 1000."
   ]
  },
  {
   "cell_type": "code",
   "execution_count": null,
   "metadata": {
    "collapsed": true,
    "slideshow": {
     "slide_type": "subslide"
    }
   },
   "outputs": [],
   "source": [
    "# Instance the XGBoost classifier with n_estimators\n",
    "model = XGBClassifier(n_estimators=estimator, max_depth=depth, base_score=score, subsample=sub_sample)\n",
    "scores = cross_val_score(model, X, y, cv=5, n_jobs=-1, scoring='neg_log_loss')"
   ]
  },
  {
   "cell_type": "markdown",
   "metadata": {
    "slideshow": {
     "slide_type": "fragment"
    }
   },
   "source": [
    "### Resultados\n",
    "| n_estimators | Log Loss | Feature set |\n",
    "| ------------ | -------- | ----------- |\n",
    "| 100          | 0.568720 |   **fs-1** |\n",
    "| 200          | 0.480609 | **fs-1** |\n",
    "| 500          | 0.451343 | **fs-1** |\n",
    "| ***1000***         | ***0.435240*** | **fs-1** |\n",
    "| 100         | 0.620326 | **fs-2** |\n",
    "| 200         | 0.618113 | **fs-2** |\n",
    "| 500         | 0.616009 | **fs-2** |\n",
    "| 1000         | 0.590790 | **fs-2** |\n",
    "| 100          | 0.577797 |   **fs-3** |\n",
    "\n",
    "#### Matriz de confusão **fs-2** (n_estimators = 1000)\n",
    "\n",
    "| |  |  |\n",
    "|---|---|---|\n",
    "|**0**  | 45418 | 5356 |\n",
    "|**1**  | 21994 | 8102|\n",
    "\n",
    "**Acurácia: 66%**"
   ]
  },
  {
   "cell_type": "markdown",
   "metadata": {},
   "source": [
    "### Conclusão\n",
    "\n",
    "Este trabalho mostrou diferentes modelagens para o problema de detecção de questões duplicadas, assim como um comparativo entre um conjunto de classificadores utilizados para a geração de modelos de detecção para o problema. Dentre os classificadores testados, o XGboost foi o que apresentou os melhores resultados, gerando um _Log Loss_ de aproximadamente **0.44**.\n",
    "Para trabalhos futuros, ficam indicados testes mais extensivos com os classificadores testados, a realização de outras modelagens para o problema, e também a realização de testes com outros classificadores."
   ]
  }
 ],
 "metadata": {
  "celltoolbar": "Slideshow",
  "kernelspec": {
   "display_name": "Python 3",
   "language": "python",
   "name": "python3"
  },
  "language_info": {
   "codemirror_mode": {
    "name": "ipython",
    "version": 3
   },
   "file_extension": ".py",
   "mimetype": "text/x-python",
   "name": "python",
   "nbconvert_exporter": "python",
   "pygments_lexer": "ipython3",
   "version": "3.5.2"
  }
 },
 "nbformat": 4,
 "nbformat_minor": 2
}
